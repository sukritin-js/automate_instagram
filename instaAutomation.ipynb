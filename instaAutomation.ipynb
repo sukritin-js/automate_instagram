{
 "cells": [
  {
   "cell_type": "markdown",
   "metadata": {},
   "source": [
    "---\n",
    "title: Extended Instabot Example\n",
    "---\n",
    "\n",
    "## Introduction\n",
    "\n",
    "In this Jupyter Notebook, we'll explore an extended example of using the Instabot library to interact with Instagram.\n",
    "\n",
    "### Prerequisites\n",
    "\n",
    "Before running this notebook, make sure you have the Instabot library installed. You can install it using pip:"
   ]
  },
  {
   "cell_type": "code",
   "execution_count": null,
   "metadata": {},
   "outputs": [],
   "source": [
    "%pip install instabot"
   ]
  },
  {
   "cell_type": "markdown",
   "metadata": {},
   "source": [
    "## Imports\n",
    "Let's start by importing the required libraries:"
   ]
  },
  {
   "cell_type": "code",
   "execution_count": null,
   "metadata": {},
   "outputs": [],
   "source": [
    "# Importing Libraries\n",
    "from instabot import Bot\n",
    "import os\n",
    "import glob\n",
    "from tqdm.std import tqdm\n"
   ]
  },
  {
   "cell_type": "markdown",
   "metadata": {},
   "source": [
    "## Initialize Instabot\n",
    "We'll initialize the Instabot with some custom settings:"
   ]
  },
  {
   "cell_type": "code",
   "execution_count": null,
   "metadata": {},
   "outputs": [],
   "source": [
    "# Filtration\n",
    "bot = Bot(max_follows_per_day=150, follow_delay=60, filter_previously_followed=True, filter_verified_accounts=True, filter_private_users=True, filter_business_accounts=True)\n",
    "\n",
    "# This line will read the password from the file named password.txt\n",
    "password_file = open(\"password.txt\", \"r\")\n",
    "password = password_file.read()\n",
    "\n",
    "# Enter your username here\n",
    "bot.login(username=\"your_username\", password=password)"
   ]
  },
  {
   "cell_type": "markdown",
   "metadata": {},
   "source": [
    "## Get User Media and Interact with Likers\n",
    "Now, we'll specify a list of Instagram users and interact with the likers of their posts:"
   ]
  },
  {
   "cell_type": "code",
   "execution_count": null,
   "metadata": {},
   "outputs": [],
   "source": [
    "# Enter a list of Instagram users to fetch their photos\n",
    "user_list = [\"user1\", \"user2\", \"user3\"]\n",
    "\n",
    "# Iterate over the user list\n",
    "for user in user_list:\n",
    "    medias = bot.get_user_medias(user, filtration=False)\n",
    "    print(medias)\n",
    "    post1 = medias[0]\n",
    "    post2 = medias[1]\n",
    "\n",
    "    likers = bot.get_media_likers(post1)\n",
    "\n",
    "    cnt = 0\n",
    "\n",
    "    # Getting Likes of the post and who liked it\n",
    "    for liker in tqdm(likers):\n",
    "        if cnt < 10:\n",
    "            print(bot.get_username_from_user_id(liker))\n",
    "            bot.follow(liker)\n",
    "            cnt += 1\n",
    "\n",
    "    likers = bot.get_media_likers(post2)\n",
    "\n",
    "    cnt = 0\n",
    "\n",
    "    # Follow the likers of the post\n",
    "    for liker in tqdm(likers):\n",
    "        if cnt < 10:\n",
    "            print(bot.get_username_from_user_id(liker))\n",
    "            bot.follow(liker)\n",
    "            cnt += 1"
   ]
  },
  {
   "cell_type": "markdown",
   "metadata": {},
   "source": [
    "This extended example demonstrates interacting with multiple users and their post likers, providing you with a more detailed Instabot usage scenario."
   ]
  }
 ],
 "metadata": {
  "language_info": {
   "name": "python"
  },
  "orig_nbformat": 4
 },
 "nbformat": 4,
 "nbformat_minor": 2
}
